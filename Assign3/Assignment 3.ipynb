{
 "cells": [
  {
   "cell_type": "code",
   "execution_count": 112,
   "metadata": {},
   "outputs": [],
   "source": [
    "import psycopg2\n",
    "import os\n",
    "import sys\n",
    "\n",
    "def getOpenConnection(user='postgres', password='1234', dbname='ddsassignment3'):\n",
    "    return psycopg2.connect(\"dbname='\" + dbname + \"' user='\" + user + \"' host='localhost' password='\" + password + \"'\")"
   ]
  },
  {
   "cell_type": "code",
   "execution_count": 113,
   "metadata": {},
   "outputs": [],
   "source": [
    "con = getOpenConnection()"
   ]
  },
  {
   "cell_type": "code",
   "execution_count": 114,
   "metadata": {},
   "outputs": [],
   "source": [
    "#Assignment3.ParallelSort('ratings', 'Rating', 'parallelSortOutputTable', con);"
   ]
  },
  {
   "cell_type": "code",
   "execution_count": 116,
   "metadata": {},
   "outputs": [
    {
     "name": "stdout",
     "output_type": "stream",
     "text": [
      "(1.0, 5.0)\n"
     ]
    }
   ],
   "source": [
    "cur = con.cursor()\n",
    "query = \"select  min({0}), max({0}) from {1} \".format('Rating', 'ratings')\n",
    "cur.execute(query)\n",
    "val = cur.fetchone()\n",
    "print val"
   ]
  },
  {
   "cell_type": "code",
   "execution_count": 107,
   "metadata": {},
   "outputs": [],
   "source": [
    "cur = con.cursor()\n",
    "query = \"select  max({0}) from {1} \".format('Rating', 'ratings')\n",
    "cur.execute(query)\n",
    "max_val = cur.fetchone()[0]"
   ]
  },
  {
   "cell_type": "code",
   "execution_count": 108,
   "metadata": {},
   "outputs": [],
   "source": [
    "interval = (max_val - min_val)/5 "
   ]
  },
  {
   "cell_type": "code",
   "execution_count": 109,
   "metadata": {},
   "outputs": [
    {
     "data": {
      "text/plain": [
       "0.8"
      ]
     },
     "execution_count": 109,
     "metadata": {},
     "output_type": "execute_result"
    }
   ],
   "source": [
    "interval"
   ]
  },
  {
   "cell_type": "code",
   "execution_count": 117,
   "metadata": {},
   "outputs": [
    {
     "name": "stdout",
     "output_type": "stream",
     "text": [
      "rangepartition0 1.0 1.8\n"
     ]
    },
    {
     "ename": "TransactionRollbackError",
     "evalue": "deadlock detected\nDETAIL:  Process 9224 waits for AccessShareLock on object 44025 of class 2615 of database 43950; blocked by process 8983.\nProcess 8983 waits for AccessExclusiveLock on relation 44026 of database 43950; blocked by process 9224.\nHINT:  See server log for query details.\n",
     "output_type": "error",
     "traceback": [
      "\u001b[0;31m---------------------------------------------------------------------------\u001b[0m",
      "\u001b[0;31mTransactionRollbackError\u001b[0m                  Traceback (most recent call last)",
      "\u001b[0;32m<ipython-input-117-39a7b3c10b57>\u001b[0m in \u001b[0;36m<module>\u001b[0;34m()\u001b[0m\n\u001b[1;32m     23\u001b[0m     \u001b[0minterval\u001b[0m \u001b[0;34m=\u001b[0m \u001b[0mstart\u001b[0m \u001b[0;34m+\u001b[0m \u001b[0;36m0.8\u001b[0m\u001b[0;34m\u001b[0m\u001b[0m\n\u001b[1;32m     24\u001b[0m     \u001b[0;32mprint\u001b[0m \u001b[0mtablename\u001b[0m\u001b[0;34m,\u001b[0m \u001b[0mstart\u001b[0m\u001b[0;34m,\u001b[0m \u001b[0minterval\u001b[0m\u001b[0;34m\u001b[0m\u001b[0m\n\u001b[0;32m---> 25\u001b[0;31m     \u001b[0mcopytable\u001b[0m\u001b[0;34m(\u001b[0m\u001b[0;34m'ratings'\u001b[0m\u001b[0;34m,\u001b[0m \u001b[0mtablename\u001b[0m \u001b[0;34m,\u001b[0m \u001b[0mcur\u001b[0m\u001b[0;34m)\u001b[0m\u001b[0;34m\u001b[0m\u001b[0m\n\u001b[0m\u001b[1;32m     26\u001b[0m     \u001b[0mthreads\u001b[0m\u001b[0;34m[\u001b[0m\u001b[0mindex\u001b[0m\u001b[0;34m]\u001b[0m \u001b[0;34m=\u001b[0m \u001b[0mthreading\u001b[0m\u001b[0;34m.\u001b[0m\u001b[0mThread\u001b[0m\u001b[0;34m(\u001b[0m\u001b[0mtarget\u001b[0m \u001b[0;34m=\u001b[0m \u001b[0mparallel\u001b[0m\u001b[0;34m,\u001b[0m \u001b[0margs\u001b[0m \u001b[0;34m=\u001b[0m \u001b[0;34m(\u001b[0m\u001b[0;34m'ratings'\u001b[0m\u001b[0;34m,\u001b[0m \u001b[0mtablename\u001b[0m\u001b[0;34m,\u001b[0m \u001b[0;34m'Rating'\u001b[0m\u001b[0;34m,\u001b[0m \u001b[0mstart\u001b[0m\u001b[0;34m,\u001b[0m \u001b[0mend\u001b[0m\u001b[0;34m,\u001b[0m \u001b[0mcon\u001b[0m\u001b[0;34m)\u001b[0m\u001b[0;34m)\u001b[0m\u001b[0;34m\u001b[0m\u001b[0m\n\u001b[1;32m     27\u001b[0m     \u001b[0mthreads\u001b[0m\u001b[0;34m[\u001b[0m\u001b[0mindex\u001b[0m\u001b[0;34m]\u001b[0m\u001b[0;34m.\u001b[0m\u001b[0mstart\u001b[0m\u001b[0;34m(\u001b[0m\u001b[0;34m)\u001b[0m\u001b[0;34m\u001b[0m\u001b[0m\n",
      "\u001b[0;32m<ipython-input-117-39a7b3c10b57>\u001b[0m in \u001b[0;36mcopytable\u001b[0;34m(sourcetable, destinationtable, cur)\u001b[0m\n\u001b[1;32m     11\u001b[0m \u001b[0;32mdef\u001b[0m \u001b[0mcopytable\u001b[0m\u001b[0;34m(\u001b[0m\u001b[0msourcetable\u001b[0m\u001b[0;34m,\u001b[0m\u001b[0mdestinationtable\u001b[0m\u001b[0;34m,\u001b[0m\u001b[0mcur\u001b[0m\u001b[0;34m)\u001b[0m\u001b[0;34m:\u001b[0m\u001b[0;34m\u001b[0m\u001b[0m\n\u001b[1;32m     12\u001b[0m     \u001b[0mquery\u001b[0m \u001b[0;34m=\u001b[0m \u001b[0;34m\"CREATE TABLE {0} AS SELECT * FROM {1} WHERE 1=2\"\u001b[0m\u001b[0;34m.\u001b[0m\u001b[0mformat\u001b[0m\u001b[0;34m(\u001b[0m\u001b[0mdestinationtable\u001b[0m\u001b[0;34m,\u001b[0m\u001b[0msourcetable\u001b[0m\u001b[0;34m)\u001b[0m\u001b[0;34m\u001b[0m\u001b[0m\n\u001b[0;32m---> 13\u001b[0;31m     \u001b[0mcur\u001b[0m\u001b[0;34m.\u001b[0m\u001b[0mexecute\u001b[0m\u001b[0;34m(\u001b[0m\u001b[0mquery\u001b[0m\u001b[0;34m)\u001b[0m\u001b[0;34m;\u001b[0m\u001b[0;34m\u001b[0m\u001b[0m\n\u001b[0m\u001b[1;32m     14\u001b[0m \u001b[0;34m\u001b[0m\u001b[0m\n\u001b[1;32m     15\u001b[0m \u001b[0mpartition\u001b[0m \u001b[0;34m=\u001b[0m \u001b[0;34m'rangepartition'\u001b[0m\u001b[0;34m\u001b[0m\u001b[0m\n",
      "\u001b[0;31mTransactionRollbackError\u001b[0m: deadlock detected\nDETAIL:  Process 9224 waits for AccessShareLock on object 44025 of class 2615 of database 43950; blocked by process 8983.\nProcess 8983 waits for AccessExclusiveLock on relation 44026 of database 43950; blocked by process 9224.\nHINT:  See server log for query details.\n"
     ]
    }
   ],
   "source": [
    "def parallel(InputTable, rangetable, SortingColumnName, lowerbound, upperbound, openconnection):\n",
    "    cur = openconnection.cursor()\n",
    "    if rangetable == partition + str(0):\n",
    "        query = 'Insert into {0} select * from {1} where {2} >= {3} and {2} <= {4} order by {2} asc'.format(rangetable, InputTable, SortingColumnName, lowerbound, upperbound)\n",
    "    else:\n",
    "        query = 'Insert into {0} select * from {1} where {2} >= {3} and {2} <= {4} order by {2} asc'.format(rangetable, InputTable, SortingColumnName, lowerbound, upperbound)\n",
    "    cur.execute(query)\n",
    "\n",
    "\n",
    "import threading\n",
    "def copytable(sourcetable,destinationtable,cur):\n",
    "    query = \"CREATE TABLE {0} AS SELECT * FROM {1} WHERE 1=2\".format(destinationtable,sourcetable)\n",
    "    cur.execute(query);\n",
    "\n",
    "partition = 'rangepartition'\n",
    "start = min_val\n",
    "end = max_val\n",
    "index = 0\n",
    "length = (max_val - min_val) * 1.0 / 5\n",
    "threads = range(5)\n",
    "while start < end:\n",
    "    tablename = partition + str(index)\n",
    "    interval = start + 0.8\n",
    "    print tablename, start, interval\n",
    "    copytable('ratings', tablename , cur)\n",
    "    threads[index] = threading.Thread(target = parallel, args = ('ratings', tablename, 'Rating', start, end, con))\n",
    "    threads[index].start()\n",
    "    start = interval\n",
    "    index += 1\n",
    "    \n",
    "for i in range(5):\n",
    "    threads[i].join()\n",
    "\n",
    "print \"done\"\n",
    "    \n",
    "for i in range(TOTAL_THREADS):\n",
    "    tablename = partition + repr(i)\n",
    "    query = \"INSERT INTO {0} SELECT * FROM {1}\".format( 'OutputTable', tablename)\n",
    "    cur.execute(query)\n",
    "        \n",
    "for i in range(TOTAL_THREADS):\n",
    "    tablename = partition + repr(i)\n",
    "    cur.execute('DROP TABLE IF EXISTS {0} CASCADE'.format(tablename))\n",
    "    \n",
    "cur.close()\n",
    "con.commit()\n",
    "con.close()"
   ]
  },
  {
   "cell_type": "code",
   "execution_count": 39,
   "metadata": {},
   "outputs": [
    {
     "data": {
      "text/plain": [
       "[0, 1, 2, 3, 4]"
      ]
     },
     "execution_count": 39,
     "metadata": {},
     "output_type": "execute_result"
    }
   ],
   "source": []
  },
  {
   "cell_type": "code",
   "execution_count": null,
   "metadata": {},
   "outputs": [],
   "source": []
  }
 ],
 "metadata": {
  "kernelspec": {
   "display_name": "Python 2",
   "language": "python",
   "name": "python2"
  },
  "language_info": {
   "codemirror_mode": {
    "name": "ipython",
    "version": 2
   },
   "file_extension": ".py",
   "mimetype": "text/x-python",
   "name": "python",
   "nbconvert_exporter": "python",
   "pygments_lexer": "ipython2",
   "version": "2.7.12"
  }
 },
 "nbformat": 4,
 "nbformat_minor": 2
}
