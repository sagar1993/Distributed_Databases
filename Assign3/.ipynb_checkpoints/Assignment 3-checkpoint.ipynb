{
 "cells": [
  {
   "cell_type": "code",
   "execution_count": 70,
   "metadata": {},
   "outputs": [],
   "source": [
    "import psycopg2\n",
    "import os\n",
    "import sys\n",
    "\n",
    "def getOpenConnection(user='postgres', password='1234', dbname='ddsassignment3'):\n",
    "    return psycopg2.connect(\"dbname='\" + dbname + \"' user='\" + user + \"' host='localhost' password='\" + password + \"'\")"
   ]
  },
  {
   "cell_type": "code",
   "execution_count": 71,
   "metadata": {},
   "outputs": [],
   "source": [
    "con = getOpenConnection()"
   ]
  },
  {
   "cell_type": "code",
   "execution_count": 72,
   "metadata": {},
   "outputs": [],
   "source": [
    "#Assignment3.ParallelSort('ratings', 'Rating', 'parallelSortOutputTable', con);"
   ]
  },
  {
   "cell_type": "code",
   "execution_count": 73,
   "metadata": {},
   "outputs": [],
   "source": [
    "cur = con.cursor()\n",
    "query = \"select  min({0}) from {1} \".format('Rating', 'ratings')\n",
    "cur.execute(query)\n",
    "min_val = cur.fetchone()[0]"
   ]
  },
  {
   "cell_type": "code",
   "execution_count": 74,
   "metadata": {},
   "outputs": [],
   "source": [
    "cur = con.cursor()\n",
    "query = \"select  max({0}) from {1} \".format('Rating', 'ratings')\n",
    "cur.execute(query)\n",
    "max_val = cur.fetchone()[0]"
   ]
  },
  {
   "cell_type": "code",
   "execution_count": 75,
   "metadata": {},
   "outputs": [],
   "source": [
    "interval = (max_val - min_val)/5 "
   ]
  },
  {
   "cell_type": "code",
   "execution_count": 76,
   "metadata": {},
   "outputs": [
    {
     "data": {
      "text/plain": [
       "0.8"
      ]
     },
     "execution_count": 76,
     "metadata": {},
     "output_type": "execute_result"
    }
   ],
   "source": [
    "interval"
   ]
  },
  {
   "cell_type": "code",
   "execution_count": 77,
   "metadata": {},
   "outputs": [
    {
     "name": "stdout",
     "output_type": "stream",
     "text": [
      "rangepartition0 1.0 1.8\n"
     ]
    },
    {
     "ename": "NameError",
     "evalue": "name 'i' is not defined",
     "output_type": "error",
     "traceback": [
      "\u001b[0;31m---------------------------------------------------------------------------\u001b[0m",
      "\u001b[0;31mNameError\u001b[0m                                 Traceback (most recent call last)",
      "\u001b[0;32m<ipython-input-77-69b284e763d0>\u001b[0m in \u001b[0;36m<module>\u001b[0;34m()\u001b[0m\n\u001b[1;32m     27\u001b[0m     \u001b[0mstart\u001b[0m \u001b[0;34m=\u001b[0m \u001b[0minterval\u001b[0m\u001b[0;34m\u001b[0m\u001b[0m\n\u001b[1;32m     28\u001b[0m     \u001b[0mindex\u001b[0m \u001b[0;34m+=\u001b[0m \u001b[0;36m1\u001b[0m\u001b[0;34m\u001b[0m\u001b[0m\n\u001b[0;32m---> 29\u001b[0;31m     \u001b[0mthreads\u001b[0m\u001b[0;34m[\u001b[0m\u001b[0mi\u001b[0m\u001b[0;34m]\u001b[0m\u001b[0;34m.\u001b[0m\u001b[0mstart\u001b[0m\u001b[0;34m(\u001b[0m\u001b[0;34m)\u001b[0m\u001b[0;34m\u001b[0m\u001b[0m\n\u001b[0m\u001b[1;32m     30\u001b[0m \u001b[0;34m\u001b[0m\u001b[0m\n\u001b[1;32m     31\u001b[0m \u001b[0;32mfor\u001b[0m \u001b[0mi\u001b[0m \u001b[0;32min\u001b[0m \u001b[0mrange\u001b[0m\u001b[0;34m(\u001b[0m\u001b[0;36m5\u001b[0m\u001b[0;34m)\u001b[0m\u001b[0;34m:\u001b[0m\u001b[0;34m\u001b[0m\u001b[0m\n",
      "\u001b[0;31mNameError\u001b[0m: name 'i' is not defined"
     ]
    }
   ],
   "source": [
    "def parallel(InputTable, rangetable, SortingColumnName, lowerbound, upperbound, openconnection):\n",
    "    cur = openconnection.cursor()\n",
    "    if rangetable == partition + str(0):\n",
    "        query = 'Insert into {0} select * from {1} where {2} >= {3} and {2} <= {4} order by {2} asc'.format(rangetable, InputTable, SortingColumnName, lowerbound, upperbound)\n",
    "    else:\n",
    "        query = 'Insert into {0} select * from {1} where {2} >= {3} and {2} <= {4} order by {2} asc'.format(rangetable, InputTable, SortingColumnName, lowerbound, upperbound)\n",
    "    cur.execute(query)\n",
    "\n",
    "\n",
    "import threading\n",
    "def copytable(sourcetable,destinationtable,cur):\n",
    "    query = \"CREATE TABLE {0} AS SELECT * FROM {1} WHERE 1=2\".format(destinationtable,sourcetable)\n",
    "    cur.execute(query);\n",
    "\n",
    "partition = 'rangepartition'\n",
    "start = min_val\n",
    "end = max_val\n",
    "index = 0\n",
    "length = (max_val - min_val) * 1.0 / 5\n",
    "threads = range(5)\n",
    "while start < end:\n",
    "    tablename = partition + str(index)\n",
    "    interval = start + 0.8\n",
    "    print tablename, start, interval\n",
    "    copytable('ratings', tablename , cur)\n",
    "    threads[index] = threading.Thread(target = parallel, args = ('ratings', tablename, 'Rating', start, end, con))\n",
    "    start = interval\n",
    "    index += 1\n",
    "    threads[index].start()\n",
    "    \n",
    "for i in range(5):\n",
    "    threads[i].join()\n",
    "\n",
    "print \"done\"\n",
    "    "
   ]
  },
  {
   "cell_type": "code",
   "execution_count": 39,
   "metadata": {},
   "outputs": [
    {
     "data": {
      "text/plain": [
       "[0, 1, 2, 3, 4]"
      ]
     },
     "execution_count": 39,
     "metadata": {},
     "output_type": "execute_result"
    }
   ],
   "source": []
  },
  {
   "cell_type": "code",
   "execution_count": null,
   "metadata": {},
   "outputs": [],
   "source": []
  }
 ],
 "metadata": {
  "kernelspec": {
   "display_name": "Python 2",
   "language": "python",
   "name": "python2"
  },
  "language_info": {
   "codemirror_mode": {
    "name": "ipython",
    "version": 2
   },
   "file_extension": ".py",
   "mimetype": "text/x-python",
   "name": "python",
   "nbconvert_exporter": "python",
   "pygments_lexer": "ipython2",
   "version": "2.7.12"
  }
 },
 "nbformat": 4,
 "nbformat_minor": 2
}
